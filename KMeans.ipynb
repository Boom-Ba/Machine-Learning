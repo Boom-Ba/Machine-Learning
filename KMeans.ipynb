{
  "nbformat": 4,
  "nbformat_minor": 0,
  "metadata": {
    "colab": {
      "name": "KMeans.ipynb",
      "provenance": [],
      "authorship_tag": "ABX9TyPu46dwx1KU4m+oTuqIeYVx",
      "include_colab_link": true
    },
    "kernelspec": {
      "name": "python3",
      "display_name": "Python 3"
    }
  },
  "cells": [
    {
      "cell_type": "markdown",
      "metadata": {
        "id": "view-in-github",
        "colab_type": "text"
      },
      "source": [
        "<a href=\"https://colab.research.google.com/github/Boom-Ba/Machine-Learning/blob/master/KMeans.ipynb\" target=\"_parent\"><img src=\"https://colab.research.google.com/assets/colab-badge.svg\" alt=\"Open In Colab\"/></a>"
      ]
    },
    {
      "cell_type": "code",
      "metadata": {
        "id": "JYsFAJZvGetD",
        "colab_type": "code",
        "colab": {
          "base_uri": "https://localhost:8080/",
          "height": 418
        },
        "outputId": "5e961a9c-2be9-4f2d-c5f3-083c1db5909a"
      },
      "source": [
        "import numpy as np\n",
        "import pandas as pd\n",
        "import matplotlib.pyplot as plt\n",
        "from matplotlib import style\n",
        "style.use('ggplot')\n",
        "from sklearn.cluster import KMeans\n",
        "\n",
        "x= [1,5,1.5,8,1,9]\n",
        "y =[2,8,1.8,8,0.6,11]\n",
        "\n",
        "#plt.scatter(x,y)\n",
        "X= np.array([[1,2],\n",
        "             [5,8],\n",
        "             [1.5,1.8],\n",
        "             [8,8],\n",
        "             [1,0.6],\n",
        "             [9,11]])\n",
        "kmeans =KMeans(n_clusters= 2)\n",
        "kmeans.fit(X)\n",
        "centroids =kmeans.cluster_centers_\n",
        "labels =kmeans.labels_\n",
        "\n",
        "print(centroids)\n",
        "print(labels)\n",
        "\n",
        "colors =[\"g.\",\"r.\"]\n",
        "for x in range(len(X)):\n",
        "  print(\"coordinate:\",X[x],\"label:\",labels[x])\n",
        "  plt.plot(X[x][0],X[x][1],colors[labels[x]],markersize=20)\n",
        "plt.scatter(centroids[:,:1], centroids[:,1:],marker =\"x\",s=150,linewidths=.5)\n",
        "plt.show()"
      ],
      "execution_count": 28,
      "outputs": [
        {
          "output_type": "stream",
          "text": [
            "[[1.16666667 1.46666667]\n",
            " [7.33333333 9.        ]]\n",
            "[0 1 0 1 0 1]\n",
            "coordinate: [1. 2.] label: 0\n",
            "coordinate: [5. 8.] label: 1\n",
            "coordinate: [1.5 1.8] label: 0\n",
            "coordinate: [8. 8.] label: 1\n",
            "coordinate: [1.  0.6] label: 0\n",
            "coordinate: [ 9. 11.] label: 1\n"
          ],
          "name": "stdout"
        },
        {
          "output_type": "display_data",
          "data": {
            "image/png": "[encoded data removed]",
            "text/plain": [
              "<Figure size 432x288 with 1 Axes>"
            ]
          },
          "metadata": {
            "tags": []
          }
        }
      ]
    },
    {
      "cell_type": "code",
      "metadata": {
        "id": "WoqnZ1ycG2cj",
        "colab_type": "code",
        "colab": {}
      },
      "source": [
        ""
      ],
      "execution_count": null,
      "outputs": []
    }
  ]
}