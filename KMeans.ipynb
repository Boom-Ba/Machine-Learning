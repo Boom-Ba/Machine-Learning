{
  "nbformat": 4,
  "nbformat_minor": 0,
  "metadata": {
    "colab": {
      "name": "KMeans.ipynb",
      "provenance": [],
      "authorship_tag": "ABX9TyOLMA07VxVQW5pFvY60fXZG",
      "include_colab_link": true
    },
    "kernelspec": {
      "name": "python3",
      "display_name": "Python 3"
    }
  },
  "cells": [
    {
      "cell_type": "markdown",
      "metadata": {
        "id": "view-in-github",
        "colab_type": "text"
      },
      "source": [
        "<a href=\"https://colab.research.google.com/github/Boom-Ba/Machine-Learning/blob/master/KMeans.ipynb\" target=\"_parent\"><img src=\"https://colab.research.google.com/assets/colab-badge.svg\" alt=\"Open In Colab\"/></a>"
      ]
    },
    {
      "cell_type": "code",
      "metadata": {
        "id": "JYsFAJZvGetD",
        "colab_type": "code",
        "colab": {
          "base_uri": "https://localhost:8080/",
          "height": 656
        },
        "outputId": "a4e3e450-71d0-49db-f1ec-36c83ead9abe"
      },
      "source": [
        "import numpy as np\n",
        "import pandas as pd\n",
        "import matplotlib.pyplot as plt\n",
        "from sklearn.cluster import KMeans\n",
        "\n",
        "X = np.array([[12,39],\n",
        "                [20,36],\n",
        "                [28,30],\n",
        "                [18,52],\n",
        "                [29,54],\n",
        "                [33,46],\n",
        "                [24,55],\n",
        "                [45,59],\n",
        "                [45,63],\n",
        "                [52,70],\n",
        "                [51,66],\n",
        "                [52,63],\n",
        "                [55,58],\n",
        "                [53,23],\n",
        "                [55,14],\n",
        "                [61,8],\n",
        "                [64,19],\n",
        "                [69,7],\n",
        "                [72,24]])\n",
        "kmeans =KMeans(n_clusters= 3)\n",
        "kmeans.fit(df)\n",
        "centroids =kmeans.cluster_centers_\n",
        "labels =kmeans.labels_\n",
        "\n",
        "print(centroids)\n",
        "print(labels)\n",
        "\n",
        "colors =[\"g.\",\"r.\",'b.']\n",
        "for x in range(len(X)):\n",
        "  print(\"coordinate:\",X[x],\"label:\",labels[x])\n",
        "  plt.plot(X[x][0],X[x][1], colors[labels[x]],markersize=5)\n",
        "plt.scatter(centroids[:,:1], centroids[:,1:],marker =\"x\",s=150,linewidths=.5)\n",
        "plt.show()"
      ],
      "execution_count": null,
      "outputs": [
        {
          "output_type": "stream",
          "text": [
            "[[62.33333333 15.83333333]\n",
            " [23.42857143 44.57142857]\n",
            " [50.         63.16666667]]\n",
            "[1 1 1 1 1 1 1 2 2 2 2 2 2 0 0 0 0 0 0]\n",
            "coordinate: [12 39] label: 1\n",
            "coordinate: [20 36] label: 1\n",
            "coordinate: [28 30] label: 1\n",
            "coordinate: [18 52] label: 1\n",
            "coordinate: [29 54] label: 1\n",
            "coordinate: [33 46] label: 1\n",
            "coordinate: [24 55] label: 1\n",
            "coordinate: [45 59] label: 2\n",
            "coordinate: [45 63] label: 2\n",
            "coordinate: [52 70] label: 2\n",
            "coordinate: [51 66] label: 2\n",
            "coordinate: [52 63] label: 2\n",
            "coordinate: [55 58] label: 2\n",
            "coordinate: [53 23] label: 0\n",
            "coordinate: [55 14] label: 0\n",
            "coordinate: [61  8] label: 0\n",
            "coordinate: [64 19] label: 0\n",
            "coordinate: [69  7] label: 0\n",
            "coordinate: [72 24] label: 0\n"
          ],
          "name": "stdout"
        },
        {
          "output_type": "display_data",
          "data": {
            "image/png": "[encoded data removed]",
            "text/plain": [
              "<Figure size 432x288 with 1 Axes>"
            ]
          },
          "metadata": {
            "tags": []
          }
        }
      ]
    }
  ]
}