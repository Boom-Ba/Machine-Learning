{
  "nbformat": 4,
  "nbformat_minor": 0,
  "metadata": {
    "colab": {
      "name": "SVD.ipynb",
      "provenance": [],
      "authorship_tag": "ABX9TyM30328MMBGGa6EE9SJnzyT",
      "include_colab_link": true
    },
    "kernelspec": {
      "name": "python3",
      "display_name": "Python 3"
    }
  },
  "cells": [
    {
      "cell_type": "markdown",
      "metadata": {
        "id": "view-in-github",
        "colab_type": "text"
      },
      "source": [
        "<a href=\"https://colab.research.google.com/github/Boom-Ba/Machine-Learning/blob/master/SVD.ipynb\" target=\"_parent\"><img src=\"https://colab.research.google.com/assets/colab-badge.svg\" alt=\"Open In Colab\"/></a>"
      ]
    },
    {
      "cell_type": "code",
      "metadata": {
        "id": "GzP7UYBSjRc5",
        "colab_type": "code",
        "colab": {
          "base_uri": "https://localhost:8080/",
          "height": 241
        },
        "outputId": "b5b9e6e0-d4e9-47d2-df33-b661d4d9468d"
      },
      "source": [
        "import numpy as np\n",
        "a = np.array([[1,2],\n",
        "              [3,4],\n",
        "              [5,6],\n",
        "              [0,0]])\n",
        "U,s,V = np.linalg.svd(a)\n",
        "print(np.linalg.svd(a))\n",
        "print('U:',U)\n",
        "print('S:',s)\n",
        "print('V',V)"
      ],
      "execution_count": 4,
      "outputs": [
        {
          "output_type": "stream",
          "text": [
            "(array([[-0.2298477 ,  0.88346102,  0.40824829,  0.        ],\n",
            "       [-0.52474482,  0.24078249, -0.81649658,  0.        ],\n",
            "       [-0.81964194, -0.40189603,  0.40824829,  0.        ],\n",
            "       [ 0.        ,  0.        ,  0.        ,  1.        ]]), array([9.52551809, 0.51430058]), array([[-0.61962948, -0.78489445],\n",
            "       [-0.78489445,  0.61962948]]))\n",
            "U: [[-0.2298477   0.88346102  0.40824829  0.        ]\n",
            " [-0.52474482  0.24078249 -0.81649658  0.        ]\n",
            " [-0.81964194 -0.40189603  0.40824829  0.        ]\n",
            " [ 0.          0.          0.          1.        ]]\n",
            "S: [9.52551809 0.51430058]\n",
            "V [[-0.61962948 -0.78489445]\n",
            " [-0.78489445  0.61962948]]\n"
          ],
          "name": "stdout"
        }
      ]
    }
  ]
}